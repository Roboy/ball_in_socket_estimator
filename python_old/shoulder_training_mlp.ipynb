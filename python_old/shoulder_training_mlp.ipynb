{
 "cells": [
  {
   "cell_type": "code",
   "execution_count": 5,
   "metadata": {},
   "outputs": [
    {
     "ename": "AttributeError",
     "evalue": "'module' object has no attribute 'callbacks'",
     "output_type": "error",
     "traceback": [
      "\u001b[0;31m---------------------------------------------------------------------------\u001b[0m",
      "\u001b[0;31mAttributeError\u001b[0m                            Traceback (most recent call last)",
      "\u001b[0;32m<ipython-input-5-4a5f73c6bd5a>\u001b[0m in \u001b[0;36m<module>\u001b[0;34m()\u001b[0m\n\u001b[1;32m      8\u001b[0m \u001b[0;32mfrom\u001b[0m \u001b[0mmatplotlib\u001b[0m \u001b[0;32mimport\u001b[0m \u001b[0mpyplot\u001b[0m\u001b[0;34m\u001b[0m\u001b[0m\n\u001b[1;32m      9\u001b[0m \u001b[0;32mfrom\u001b[0m \u001b[0mkeras\u001b[0m \u001b[0;32mimport\u001b[0m \u001b[0mcallbacks\u001b[0m\u001b[0;34m\u001b[0m\u001b[0m\n\u001b[0;32m---> 10\u001b[0;31m \u001b[0;32mfrom\u001b[0m \u001b[0mlivelossplot\u001b[0m\u001b[0;34m.\u001b[0m\u001b[0mkeras\u001b[0m \u001b[0;32mimport\u001b[0m \u001b[0mPlotLossesCallback\u001b[0m\u001b[0;34m\u001b[0m\u001b[0m\n\u001b[0m\u001b[1;32m     11\u001b[0m \u001b[0;34m\u001b[0m\u001b[0m\n\u001b[1;32m     12\u001b[0m \u001b[0mmodel\u001b[0m \u001b[0;34m=\u001b[0m \u001b[0mSequential\u001b[0m\u001b[0;34m(\u001b[0m\u001b[0;34m)\u001b[0m\u001b[0;34m\u001b[0m\u001b[0m\n",
      "\u001b[0;32m/usr/local/lib/python2.7/dist-packages/livelossplot/keras.pyc\u001b[0m in \u001b[0;36m<module>\u001b[0;34m()\u001b[0m\n\u001b[1;32m      2\u001b[0m \u001b[0;32mfrom\u001b[0m \u001b[0;34m.\u001b[0m\u001b[0mgeneric_keras\u001b[0m \u001b[0;32mimport\u001b[0m \u001b[0m_PlotLossesCallback\u001b[0m\u001b[0;34m\u001b[0m\u001b[0m\n\u001b[1;32m      3\u001b[0m \u001b[0;34m\u001b[0m\u001b[0m\n\u001b[0;32m----> 4\u001b[0;31m \u001b[0;32mclass\u001b[0m \u001b[0mPlotLossesCallback\u001b[0m\u001b[0;34m(\u001b[0m\u001b[0m_PlotLossesCallback\u001b[0m\u001b[0;34m,\u001b[0m \u001b[0mkeras\u001b[0m\u001b[0;34m.\u001b[0m\u001b[0mcallbacks\u001b[0m\u001b[0;34m.\u001b[0m\u001b[0mCallback\u001b[0m\u001b[0;34m)\u001b[0m\u001b[0;34m:\u001b[0m\u001b[0;34m\u001b[0m\u001b[0m\n\u001b[0m\u001b[1;32m      5\u001b[0m     \u001b[0;32mdef\u001b[0m \u001b[0m__init__\u001b[0m\u001b[0;34m(\u001b[0m\u001b[0mself\u001b[0m\u001b[0;34m,\u001b[0m \u001b[0;34m**\u001b[0m\u001b[0mkwargs\u001b[0m\u001b[0;34m)\u001b[0m\u001b[0;34m:\u001b[0m\u001b[0;34m\u001b[0m\u001b[0m\n\u001b[1;32m      6\u001b[0m         \u001b[0mkeras\u001b[0m\u001b[0;34m.\u001b[0m\u001b[0mcallbacks\u001b[0m\u001b[0;34m.\u001b[0m\u001b[0mCallback\u001b[0m\u001b[0;34m.\u001b[0m\u001b[0m__init__\u001b[0m\u001b[0;34m(\u001b[0m\u001b[0mself\u001b[0m\u001b[0;34m)\u001b[0m\u001b[0;34m\u001b[0m\u001b[0m\n",
      "\u001b[0;31mAttributeError\u001b[0m: 'module' object has no attribute 'callbacks'"
     ]
    }
   ],
   "source": [
    "# coding: utf-8\n",
    "# In[30]:\n",
    "from keras.models import Sequential\n",
    "import numpy as np\n",
    "import pandas\n",
    "from keras.layers import Dense, Activation, Dropout, LSTM\n",
    "import wrangle as wr\n",
    "from matplotlib import pyplot\n",
    "from keras import callbacks\n",
    "from livelossplot.keras import PlotLossesCallback\n",
    "\n",
    "model = Sequential()\n",
    "model.add(Dense(units=30, input_dim=9,kernel_initializer='normal', activation='elu'))\n",
    "# self.model.add(Dropout(0.1))\n",
    "model.add(Dense(units=30, kernel_initializer='normal', activation='elu'))\n",
    "# self.model.add(Dropout(0.1))\n",
    "model.add(Dense(units=4,kernel_initializer='normal', activation='elu'))\n",
    "model.compile(loss='mse', optimizer='adam')\n",
    "model.summary()\n",
    "\n",
    "# serialize model to JSON\n",
    "model_json = model.to_json()\n",
    "with open(\"model.json\", \"w\") as json_file:\n",
    "    json_file.write(model_json)\n",
    "\n",
    "dataset = pandas.read_csv(\"/home/letrend/workspace/roboy_control/data0.log\", delim_whitespace=True, header=1)\n",
    "dataset = dataset.values[:500000,0:]\n",
    "np.random.shuffle(dataset)\n",
    "quaternion_set = np.array(dataset[:,0:4])\n",
    "sensors_set = np.array(dataset[:,4:13])\n",
    "sensors_set = wr.mean_zero(pandas.DataFrame(sensors_set)).values\n",
    "data_in_train = sensors_set[:int(len(sensors_set)*0.7),:]\n",
    "data_in_test = sensors_set[int(len(sensors_set)*0.7):,:]\n",
    "data_out_train = quaternion_set[:int(len(sensors_set)*0.7),:]\n",
    "data_out_test = quaternion_set[int(len(sensors_set)*0.7):,:]\n",
    "\n",
    "train_X = data_in_train\n",
    "test_X = data_in_test\n",
    "train_y = data_out_train\n",
    "test_y = data_out_test\n",
    "print(train_X.shape, train_y.shape, test_X.shape, test_y.shape)\n",
    "filepath=\"model_checkpoint-{epoch:02d}-{val_loss:.10f}.hdf5\"\n",
    "checkpoint = callbacks.ModelCheckpoint(filepath, monitor='val_loss', verbose=1, save_best_only=True, mode='min')\n",
    "callbacks_list = [checkpoint, PlotLossesCallback()]\n",
    "# fit network\n",
    "history = model.fit(train_X, train_y, epochs=100, batch_size=20, validation_data=(test_X, test_y), verbose=2, shuffle=True, callbacks=callbacks_list)\n",
    "# plot history\n",
    "pyplot.plot(history.history['loss'], label='train')\n",
    "pyplot.plot(history.history['val_loss'], label='test')\n",
    "pyplot.legend()\n",
    "pyplot.show()\n",
    "\n",
    "# result = model.predict(train_X)\n",
    "# print(result)\n",
    "# serialize weights to HDF5\n",
    "model.save(\"model.h5\")\n",
    "print(\"Saved model to disk\")\n"
   ]
  },
  {
   "cell_type": "code",
   "execution_count": null,
   "metadata": {},
   "outputs": [],
   "source": []
  },
  {
   "cell_type": "code",
   "execution_count": 3,
   "metadata": {},
   "outputs": [
    {
     "name": "stdout",
     "output_type": "stream",
     "text": [
      "[0.09556183 0.3525412  0.02345551 0.90709484]\n",
      "[ 0.14288107  0.35887085 -0.06290568  0.9202389 ]\n"
     ]
    },
    {
     "data": {
      "text/plain": [
       "59.40810968683334"
      ]
     },
     "execution_count": 3,
     "metadata": {},
     "output_type": "execute_result"
    }
   ],
   "source": [
    "result = grid_result.best_estimator_.model.predict(x)\n",
    "print(result[0])\n",
    "print(y[0])\n",
    "numpy.linalg.norm(result-y)"
   ]
  },
  {
   "cell_type": "code",
   "execution_count": null,
   "metadata": {},
   "outputs": [],
   "source": []
  }
 ],
 "metadata": {
  "kernelspec": {
   "display_name": "Python 2",
   "language": "python",
   "name": "python2"
  },
  "language_info": {
   "codemirror_mode": {
    "name": "ipython",
    "version": 2
   },
   "file_extension": ".py",
   "mimetype": "text/x-python",
   "name": "python",
   "nbconvert_exporter": "python",
   "pygments_lexer": "ipython2",
   "version": "2.7.12"
  },
  "varInspector": {
   "cols": {
    "lenName": 16,
    "lenType": 16,
    "lenVar": 40
   },
   "kernels_config": {
    "python": {
     "delete_cmd_postfix": "",
     "delete_cmd_prefix": "del ",
     "library": "var_list.py",
     "varRefreshCmd": "print(var_dic_list())"
    },
    "r": {
     "delete_cmd_postfix": ") ",
     "delete_cmd_prefix": "rm(",
     "library": "var_list.r",
     "varRefreshCmd": "cat(var_dic_list()) "
    }
   },
   "oldHeight": 648.85,
   "position": {
    "height": "670.85px",
    "left": "1003px",
    "right": "58px",
    "top": "173px",
    "width": "637px"
   },
   "types_to_exclude": [
    "module",
    "function",
    "builtin_function_or_method",
    "instance",
    "_Feature"
   ],
   "varInspector_section_display": "block",
   "window_display": false
  }
 },
 "nbformat": 4,
 "nbformat_minor": 2
}
