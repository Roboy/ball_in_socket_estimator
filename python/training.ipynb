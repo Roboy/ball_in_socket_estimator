{
 "cells": [
  {
   "cell_type": "code",
   "execution_count": 1,
   "id": "482e0ecb",
   "metadata": {},
   "outputs": [],
   "source": [
    "import numpy as np\n",
    "import pandas as pd\n",
    "import time\n",
    "from scipy import stats\n",
    "from sklearn.preprocessing import MinMaxScaler\n",
    "import joblib\n",
    "import matplotlib.pyplot as plt\n",
    "from mpl_toolkits.mplot3d import Axes3D\n",
    "import seaborn as sns\n",
    "import matplotlib\n",
    "import os\n",
    "# %matplotlib notebook\n",
    "%matplotlib inline"
   ]
  },
  {
   "cell_type": "code",
   "execution_count": 2,
   "id": "23306a2e",
   "metadata": {},
   "outputs": [
    {
     "name": "stdout",
     "output_type": "stream",
     "text": [
      "322693 values\n"
     ]
    }
   ],
   "source": [
    "# body_part = \"head\"\n",
    "# file_names = ['./data/head_data_manual.log',\n",
    "#               './data/head_data.log']\n",
    "\n",
    "body_part = \"shoulder_right\"\n",
    "file_names = ['./data/shoulder_right_elbow.log',\n",
    "              './data/shoulder_right_no_elbow.log']\n",
    "\n",
    "dataset = [pd.read_csv(f, delim_whitespace=True, header=0) for f in file_names]\n",
    "dataset = pd.concat(dataset)\n",
    "\n",
    "print('%d values'%(len(dataset)))\n",
    "dataset = dataset[(np.abs(stats.zscore(dataset[[\"roll\", \"pitch\", \"yaw\"]])) < 2).all(axis=1)]"
   ]
  },
  {
   "cell_type": "code",
   "execution_count": 3,
   "id": "026edec2",
   "metadata": {},
   "outputs": [
    {
     "name": "stdout",
     "output_type": "stream",
     "text": [
      "307837 values after filtering outliers\n",
      "max euler 0.9078937262606296\n",
      "min euler -1.8592258436868745\n"
     ]
    }
   ],
   "source": [
    "dataset = dataset.values[1:len(dataset)-1,0:]\n",
    "# np.random.shuffle(dataset)\n",
    "\n",
    "dataset = dataset[abs(dataset[:,12])!=0.0,:]\n",
    "dataset = dataset[abs(dataset[:,13])!=0.0,:]\n",
    "dataset = dataset[abs(dataset[:,14])!=0.0,:]\n",
    "print('%d values after filtering outliers'%(len(dataset)))\n",
    "\n",
    "euler_set = dataset[:, 12:15]\n",
    "print('max euler ' + str(np.amax(euler_set)))\n",
    "print('min euler ' + str(np.amin(euler_set)))\n",
    "sensors_set = dataset[:, :12]"
   ]
  },
  {
   "cell_type": "code",
   "execution_count": 4,
   "id": "a18c2851",
   "metadata": {},
   "outputs": [],
   "source": [
    "sin_cos_set = np.hstack([np.sin(euler_set), np.cos(euler_set)])"
   ]
  },
  {
   "cell_type": "code",
   "execution_count": 5,
   "id": "29089bf3",
   "metadata": {},
   "outputs": [],
   "source": [
    "sensors_scaler = MinMaxScaler(feature_range=(-1., 1.))\n",
    "sensors_set = sensors_scaler.fit_transform(sensors_set)"
   ]
  },
  {
   "cell_type": "code",
   "execution_count": 6,
   "id": "b1825d31",
   "metadata": {},
   "outputs": [],
   "source": [
    "data_split = 0.7\n",
    "split_idx = int(len(sensors_set)*data_split)\n",
    "\n",
    "data_in_train = sensors_set[:split_idx,:]\n",
    "data_out_train = sin_cos_set[:split_idx,:]\n",
    "data_in_test = sensors_set[split_idx:,:]\n",
    "data_out_test = sin_cos_set[split_idx:,:]"
   ]
  },
  {
   "cell_type": "markdown",
   "id": "5182f02f",
   "metadata": {},
   "source": [
    "## Train model"
   ]
  },
  {
   "cell_type": "code",
   "execution_count": 7,
   "id": "81e0317f",
   "metadata": {},
   "outputs": [
    {
     "name": "stdout",
     "output_type": "stream",
     "text": [
      "WARNING:tensorflow:From /home/roboy/anaconda3/envs/roboy/lib/python3.8/site-packages/tensorflow/python/compat/v2_compat.py:96: disable_resource_variables (from tensorflow.python.ops.variable_scope) is deprecated and will be removed in a future version.\n",
      "Instructions for updating:\n",
      "non-resource variables are not supported in the long term\n"
     ]
    }
   ],
   "source": [
    "from nn_model import NeuralNetworkModel"
   ]
  },
  {
   "cell_type": "code",
   "execution_count": 8,
   "id": "3d864628",
   "metadata": {
    "scrolled": true
   },
   "outputs": [
    {
     "name": "stderr",
     "output_type": "stream",
     "text": [
      "/home/roboy/anaconda3/envs/roboy/lib/python3.8/site-packages/tensorflow/python/keras/legacy_tf_layers/core.py:171: UserWarning: `tf.layers.dense` is deprecated and will be removed in a future version. Please use `tf.keras.layers.Dense` instead.\n",
      "  warnings.warn('`tf.layers.dense` is deprecated and '\n",
      "/home/roboy/anaconda3/envs/roboy/lib/python3.8/site-packages/tensorflow/python/keras/engine/base_layer_v1.py:1719: UserWarning: `layer.apply` is deprecated and will be removed in a future version. Please use `layer.__call__` method instead.\n",
      "  warnings.warn('`layer.apply` is deprecated and '\n"
     ]
    },
    {
     "name": "stdout",
     "output_type": "stream",
     "text": [
      "#0000: Traing loss 0.33553, Valid loss 0.10152\n",
      "#0010: Traing loss 0.00745, Valid loss 0.00840\n",
      "#0020: Traing loss 0.00292, Valid loss 0.00457\n",
      "#0030: Traing loss 0.00200, Valid loss 0.00330\n",
      "#0040: Traing loss 0.00164, Valid loss 0.00269\n",
      "#0050: Traing loss 0.00144, Valid loss 0.00231\n",
      "#0060: Traing loss 0.00131, Valid loss 0.00262\n",
      "#0070: Traing loss 0.00122, Valid loss 0.00194\n",
      "#0080: Traing loss 0.00116, Valid loss 0.00220\n",
      "#0090: Traing loss 0.00112, Valid loss 0.00229\n",
      "#0100: Traing loss 0.00108, Valid loss 0.00198\n",
      "#0110: Traing loss 0.00106, Valid loss 0.00226\n",
      "#0120: Traing loss 0.00102, Valid loss 0.00210\n",
      "#0130: Traing loss 0.00100, Valid loss 0.00225\n",
      "#0140: Traing loss 0.00098, Valid loss 0.00183\n",
      "#0150: Traing loss 0.00095, Valid loss 0.00183\n",
      "#0160: Traing loss 0.00095, Valid loss 0.00190\n",
      "#0170: Traing loss 0.00093, Valid loss 0.00175\n",
      "#0180: Traing loss 0.00091, Valid loss 0.00197\n",
      "#0190: Traing loss 0.00091, Valid loss 0.00195\n",
      "#0200: Traing loss 0.00090, Valid loss 0.00185\n",
      "#0210: Traing loss 0.00090, Valid loss 0.00153\n",
      "#0220: Traing loss 0.00088, Valid loss 0.00173\n",
      "#0230: Traing loss 0.00087, Valid loss 0.00183\n",
      "#0240: Traing loss 0.00086, Valid loss 0.00172\n",
      "#0250: Traing loss 0.00086, Valid loss 0.00174\n",
      "#0260: Traing loss 0.00086, Valid loss 0.00167\n",
      "#0270: Traing loss 0.00084, Valid loss 0.00170\n",
      "#0280: Traing loss 0.00084, Valid loss 0.00172\n",
      "#0290: Traing loss 0.00083, Valid loss 0.00176\n",
      "#0300: Traing loss 0.00083, Valid loss 0.00207\n",
      "#0310: Traing loss 0.00081, Valid loss 0.00180\n",
      "#0320: Traing loss 0.00081, Valid loss 0.00161\n",
      "#0330: Traing loss 0.00080, Valid loss 0.00152\n",
      "#0340: Traing loss 0.00080, Valid loss 0.00162\n",
      "#0350: Traing loss 0.00080, Valid loss 0.00163\n",
      "#0360: Traing loss 0.00079, Valid loss 0.00152\n",
      "#0370: Traing loss 0.00079, Valid loss 0.00169\n",
      "#0380: Traing loss 0.00079, Valid loss 0.00156\n",
      "#0390: Traing loss 0.00079, Valid loss 0.00167\n",
      "#0400: Traing loss 0.00077, Valid loss 0.00168\n",
      "#0410: Traing loss 0.00077, Valid loss 0.00160\n",
      "#0420: Traing loss 0.00077, Valid loss 0.00148\n",
      "#0430: Traing loss 0.00077, Valid loss 0.00174\n",
      "#0440: Traing loss 0.00076, Valid loss 0.00174\n",
      "#0450: Traing loss 0.00076, Valid loss 0.00147\n",
      "#0460: Traing loss 0.00076, Valid loss 0.00162\n",
      "#0470: Traing loss 0.00076, Valid loss 0.00172\n",
      "#0480: Traing loss 0.00076, Valid loss 0.00148\n",
      "#0490: Traing loss 0.00075, Valid loss 0.00161\n",
      "#0500: Traing loss 0.00075, Valid loss 0.00141\n",
      "#0510: Traing loss 0.00075, Valid loss 0.00141\n",
      "#0520: Traing loss 0.00074, Valid loss 0.00155\n",
      "#0530: Traing loss 0.00074, Valid loss 0.00146\n",
      "#0540: Traing loss 0.00074, Valid loss 0.00169\n",
      "#0550: Traing loss 0.00073, Valid loss 0.00139\n",
      "#0560: Traing loss 0.00073, Valid loss 0.00167\n",
      "#0570: Traing loss 0.00074, Valid loss 0.00145\n",
      "#0580: Traing loss 0.00073, Valid loss 0.00163\n",
      "#0590: Traing loss 0.00072, Valid loss 0.00171\n",
      "#0600: Traing loss 0.00073, Valid loss 0.00164\n",
      "#0610: Traing loss 0.00072, Valid loss 0.00170\n",
      "#0620: Traing loss 0.00072, Valid loss 0.00139\n",
      "#0630: Traing loss 0.00072, Valid loss 0.00146\n",
      "#0640: Traing loss 0.00071, Valid loss 0.00160\n",
      "#0650: Traing loss 0.00071, Valid loss 0.00147\n",
      "#0660: Traing loss 0.00071, Valid loss 0.00150\n",
      "#0670: Traing loss 0.00071, Valid loss 0.00155\n",
      "#0680: Traing loss 0.00071, Valid loss 0.00167\n",
      "#0690: Traing loss 0.00071, Valid loss 0.00160\n",
      "#0700: Traing loss 0.00071, Valid loss 0.00143\n",
      "#0710: Traing loss 0.00070, Valid loss 0.00154\n",
      "#0720: Traing loss 0.00070, Valid loss 0.00165\n",
      "#0730: Traing loss 0.00070, Valid loss 0.00166\n",
      "#0740: Traing loss 0.00069, Valid loss 0.00168\n",
      "#0750: Traing loss 0.00069, Valid loss 0.00142\n",
      "#0760: Traing loss 0.00069, Valid loss 0.00160\n",
      "#0770: Traing loss 0.00070, Valid loss 0.00153\n",
      "#0780: Traing loss 0.00069, Valid loss 0.00148\n",
      "#0790: Traing loss 0.00069, Valid loss 0.00140\n",
      "#0800: Traing loss 0.00069, Valid loss 0.00162\n",
      "#0810: Traing loss 0.00069, Valid loss 0.00177\n",
      "#0820: Traing loss 0.00069, Valid loss 0.00171\n",
      "#0830: Traing loss 0.00069, Valid loss 0.00157\n",
      "#0840: Traing loss 0.00069, Valid loss 0.00167\n",
      "#0850: Traing loss 0.00068, Valid loss 0.00163\n",
      "#0860: Traing loss 0.00069, Valid loss 0.00151\n",
      "#0870: Traing loss 0.00068, Valid loss 0.00145\n",
      "#0880: Traing loss 0.00068, Valid loss 0.00154\n",
      "#0890: Traing loss 0.00068, Valid loss 0.00164\n",
      "#0900: Traing loss 0.00068, Valid loss 0.00155\n",
      "#0910: Traing loss 0.00068, Valid loss 0.00114\n",
      "#0920: Traing loss 0.00068, Valid loss 0.00170\n",
      "#0930: Traing loss 0.00068, Valid loss 0.00142\n",
      "#0940: Traing loss 0.00068, Valid loss 0.00154\n",
      "#0950: Traing loss 0.00067, Valid loss 0.00145\n",
      "#0960: Traing loss 0.00067, Valid loss 0.00157\n",
      "#0970: Traing loss 0.00067, Valid loss 0.00140\n",
      "#0980: Traing loss 0.00067, Valid loss 0.00141\n",
      "#0990: Traing loss 0.00067, Valid loss 0.00153\n",
      "#1000: Traing loss 0.00067, Valid loss 0.00144\n",
      "#1010: Traing loss 0.00067, Valid loss 0.00120\n",
      "#1020: Traing loss 0.00066, Valid loss 0.00159\n",
      "#1030: Traing loss 0.00066, Valid loss 0.00169\n",
      "#1040: Traing loss 0.00066, Valid loss 0.00137\n",
      "#1050: Traing loss 0.00066, Valid loss 0.00131\n",
      "#1060: Traing loss 0.00066, Valid loss 0.00136\n",
      "#1070: Traing loss 0.00066, Valid loss 0.00135\n",
      "#1080: Traing loss 0.00066, Valid loss 0.00142\n",
      "#1090: Traing loss 0.00066, Valid loss 0.00137\n",
      "#1100: Traing loss 0.00066, Valid loss 0.00131\n",
      "#1110: Traing loss 0.00065, Valid loss 0.00140\n",
      "#1120: Traing loss 0.00065, Valid loss 0.00170\n",
      "#1130: Traing loss 0.00065, Valid loss 0.00135\n",
      "#1140: Traing loss 0.00065, Valid loss 0.00150\n",
      "#1150: Traing loss 0.00066, Valid loss 0.00135\n",
      "#1160: Traing loss 0.00065, Valid loss 0.00120\n",
      "#1170: Traing loss 0.00066, Valid loss 0.00141\n",
      "#1180: Traing loss 0.00065, Valid loss 0.00151\n",
      "#1190: Traing loss 0.00065, Valid loss 0.00153\n",
      "#1200: Traing loss 0.00065, Valid loss 0.00133\n",
      "#1210: Traing loss 0.00065, Valid loss 0.00148\n",
      "Stop training after 1210 iterations\n"
     ]
    }
   ],
   "source": [
    "model_path = './output/'+body_part+'_tanh'\n",
    "\n",
    "if not os.path.exists(model_path):\n",
    "    os.makedirs(model_path)\n",
    "\n",
    "model_name = model_path+'/best_model'\n",
    "joblib.dump(sensors_scaler, model_path+'/scaler.pkl') \n",
    "\n",
    "model = NeuralNetworkModel(name=body_part, hidden_size=100)\n",
    "model.fit(x=data_in_train, y=data_out_train, x_val=data_in_test, y_val=data_out_test, save_path=model_name, \n",
    "         iteration=3000, patience=300, batch_size=1000)"
   ]
  }
 ],
 "metadata": {
  "kernelspec": {
   "display_name": "Python 3",
   "language": "python",
   "name": "python3"
  },
  "language_info": {
   "codemirror_mode": {
    "name": "ipython",
    "version": 3
   },
   "file_extension": ".py",
   "mimetype": "text/x-python",
   "name": "python",
   "nbconvert_exporter": "python",
   "pygments_lexer": "ipython3",
   "version": "3.8.8"
  }
 },
 "nbformat": 4,
 "nbformat_minor": 5
}
